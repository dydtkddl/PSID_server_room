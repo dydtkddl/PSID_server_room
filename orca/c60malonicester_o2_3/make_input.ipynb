{
 "cells": [
  {
   "cell_type": "code",
   "execution_count": null,
   "metadata": {},
   "outputs": [
    {
     "name": "stdout",
     "output_type": "stream",
     "text": [
      "Generated: run_1\\c60_o2_1.inp\n",
      "Generated: run_10\\c60_o2_10.inp\n",
      "Generated: run_11\\c60_o2_11.inp\n",
      "Generated: run_12\\c60_o2_12.inp\n",
      "Generated: run_13\\c60_o2_13.inp\n",
      "Generated: run_14\\c60_o2_14.inp\n",
      "Generated: run_15\\c60_o2_15.inp\n",
      "Generated: run_16\\c60_o2_16.inp\n",
      "Generated: run_17\\c60_o2_17.inp\n",
      "Generated: run_18\\c60_o2_18.inp\n",
      "Generated: run_19\\c60_o2_19.inp\n",
      "Generated: run_2\\c60_o2_2.inp\n",
      "Generated: run_20\\c60_o2_20.inp\n",
      "Generated: run_3\\c60_o2_3.inp\n",
      "Generated: run_4\\c60_o2_4.inp\n",
      "Generated: run_5\\c60_o2_5.inp\n",
      "Generated: run_6\\c60_o2_6.inp\n",
      "Generated: run_7\\c60_o2_7.inp\n",
      "Generated: run_8\\c60_o2_8.inp\n",
      "Generated: run_9\\c60_o2_9.inp\n"
     ]
    }
   ],
   "source": [
    "import os\n",
    "\n",
    "# ORCA 입력 템플릿 (input_template.in의 내용)\n",
    "orca_template = \"\"\"! wB97X-D3 def2-TZVPP TightSCF RIJCOSX SP\n",
    "\n",
    "%pal\n",
    "nprocs 28\n",
    "end\n",
    "\n",
    "%maxcore 3500\n",
    "\n",
    "\n",
    "\"\"\"\n",
    "\n",
    "# 현재 디렉토리에서 모든 \"run_xx\" 폴더 찾기\n",
    "run_dirs = [d for d in os.listdir() if d.startswith(\"run_\") and os.path.isdir(d)]\n",
    "\n",
    "for run_dir in run_dirs:\n",
    "    xyz_file = os.path.join(run_dir, f\"final_structure_{run_dir.split('_')[-1]}_converted.xyz\")  # run_xx에서 xx를 추출하여 사용\n",
    "    inp_file = os.path.join(run_dir, f\"c60_o2_{run_dir.split('_')[-1]}.inp\")\n",
    "\n",
    "    if os.path.exists(xyz_file):\n",
    "        with open(xyz_file, \"r\") as f_xyz:\n",
    "            xyz_lines = f_xyz.readlines()\n",
    "\n",
    "        # 첫 두 줄(원자 개수 및 주석)은 제거하고 ORCA 입력 형식으로 추가\n",
    "        atom_lines = xyz_lines[2:]  # 첫 두 줄 제외 (원자 좌표만 추출)\n",
    "\n",
    "        with open(inp_file, \"w\") as f_inp:\n",
    "            f_inp.write(orca_template)  # 템플릿 쓰기\n",
    "            f_inp.write(\"* xyz -1 2\\n\")  # 전하 -1, 다중도 2 설정\n",
    "            f_inp.writelines(atom_lines)  # 원자 좌표 추가\n",
    "            f_inp.write(\"*\\n\")  # ORCA 입력 종료\n",
    "\n",
    "        print(f\"Generated: {inp_file}\")\n",
    "\n",
    "    else:\n",
    "        print(f\"Skipping: {xyz_file} (file not found)\")\n"
   ]
  },
  {
   "cell_type": "code",
   "execution_count": null,
   "metadata": {},
   "outputs": [],
   "source": []
  }
 ],
 "metadata": {
  "kernelspec": {
   "display_name": "python39",
   "language": "python",
   "name": "python3"
  },
  "language_info": {
   "codemirror_mode": {
    "name": "ipython",
    "version": 3
   },
   "file_extension": ".py",
   "mimetype": "text/x-python",
   "name": "python",
   "nbconvert_exporter": "python",
   "pygments_lexer": "ipython3",
   "version": "3.9.19"
  }
 },
 "nbformat": 4,
 "nbformat_minor": 2
}
