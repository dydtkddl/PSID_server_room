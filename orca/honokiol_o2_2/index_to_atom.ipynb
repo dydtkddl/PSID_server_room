{
 "cells": [
  {
   "cell_type": "code",
   "execution_count": null,
   "metadata": {},
   "outputs": [
    {
     "name": "stdout",
     "output_type": "stream",
     "text": [
      "Converted: run_1\\final_structure_1.xyz -> run_1\\final_structure_1_converted.xyz\n",
      "Skipping: run_10\\final_structure_1.xyz (file not found)\n",
      "Skipping: run_11\\final_structure_1.xyz (file not found)\n",
      "Skipping: run_12\\final_structure_1.xyz (file not found)\n",
      "Skipping: run_13\\final_structure_1.xyz (file not found)\n",
      "Skipping: run_14\\final_structure_1.xyz (file not found)\n",
      "Skipping: run_15\\final_structure_1.xyz (file not found)\n",
      "Skipping: run_16\\final_structure_1.xyz (file not found)\n",
      "Skipping: run_17\\final_structure_1.xyz (file not found)\n",
      "Skipping: run_18\\final_structure_1.xyz (file not found)\n",
      "Skipping: run_19\\final_structure_1.xyz (file not found)\n",
      "Skipping: run_2\\final_structure_1.xyz (file not found)\n",
      "Skipping: run_20\\final_structure_1.xyz (file not found)\n",
      "Skipping: run_3\\final_structure_1.xyz (file not found)\n",
      "Skipping: run_4\\final_structure_1.xyz (file not found)\n",
      "Skipping: run_5\\final_structure_1.xyz (file not found)\n",
      "Skipping: run_6\\final_structure_1.xyz (file not found)\n",
      "Skipping: run_7\\final_structure_1.xyz (file not found)\n",
      "Skipping: run_8\\final_structure_1.xyz (file not found)\n",
      "Skipping: run_9\\final_structure_1.xyz (file not found)\n"
     ]
    }
   ],
   "source": [
    "import os\n",
    "\n",
    "# 숫자 -> 원소 기호 매핑\n",
    "atom_mapping = {\n",
    "    \"1\": \"C\",\n",
    "    \"2\": \"H\",\n",
    "    \"3\": \"O\",\n",
    "    \"4\": \"O\"  # O2-도 O로 처리\n",
    "}\n",
    "\n",
    "# 현재 디렉토리 내의 모든 \"run_xx\" 폴더 찾기\n",
    "run_dirs = [d for d in os.listdir() if d.startswith(\"run_\") and os.path.isdir(d)]\n",
    "\n",
    "for run_dir in run_dirs:\n",
    "    idx = int(run_dir[len(\"run_\"):])\n",
    "    input_file = os.path.join(run_dir, f\"final_structure_{idx}.xyz\")\n",
    "    output_file = os.path.join(run_dir, f\"final_structure_{idx}_converted.xyz\")\n",
    "\n",
    "    if os.path.exists(input_file):\n",
    "        with open(input_file, \"r\") as f:\n",
    "            lines = f.readlines()\n",
    "\n",
    "        with open(output_file, \"w\") as f:\n",
    "            # 첫 두 줄(원자 개수 및 설명)은 그대로 유지\n",
    "            f.write(lines[0])\n",
    "            f.write(lines[1])\n",
    "\n",
    "            # 원자 데이터 변환\n",
    "            for line in lines[2:]:\n",
    "                parts = line.split()\n",
    "                if len(parts) >= 4:  # 최소 원자 타입과 좌표가 있어야 함\n",
    "                    atom_symbol = atom_mapping.get(parts[0], \"X\")  # 매핑된 원소 기호 사용\n",
    "                    new_line = f\"{atom_symbol} {parts[1]} {parts[2]} {parts[3]}\\n\"\n",
    "                    f.write(new_line)\n",
    "\n",
    "        print(f\"Converted: {input_file} -> {output_file}\")\n",
    "    else:\n",
    "        print(f\"Skipping: {input_file} (file not found)\")\n"
   ]
  }
 ],
 "metadata": {
  "kernelspec": {
   "display_name": "python39",
   "language": "python",
   "name": "python3"
  },
  "language_info": {
   "codemirror_mode": {
    "name": "ipython",
    "version": 3
   },
   "file_extension": ".py",
   "mimetype": "text/x-python",
   "name": "python",
   "nbconvert_exporter": "python",
   "pygments_lexer": "ipython3",
   "version": "3.9.19"
  }
 },
 "nbformat": 4,
 "nbformat_minor": 2
}
