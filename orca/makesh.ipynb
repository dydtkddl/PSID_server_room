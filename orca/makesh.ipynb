{
 "cells": [
  {
   "cell_type": "code",
   "execution_count": 7,
   "metadata": {},
   "outputs": [
    {
     "name": "stdout",
     "output_type": "stream",
     "text": [
      "/home/ys/orca_6_0_1_linux_x86-64_shared_openmpi416/orca /home/ys/Research/PSID_server_room/orca/4nitroaniline_water_3/4nitroaniline_water_3.inp > /home/ys/Research/PSID_server_room/orca/4nitroaniline_water_3/4nitroaniline_water_3.out\n",
      "/home/ys/orca_6_0_1_linux_x86-64_shared_openmpi416/orca /home/ys/Research/PSID_server_room/orca/ABN_water_3/ABN_water_3.inp > /home/ys/Research/PSID_server_room/orca/ABN_water_3/ABN_water_3.out\n",
      "/home/ys/orca_6_0_1_linux_x86-64_shared_openmpi416/orca /home/ys/Research/PSID_server_room/orca/aniline_water_3/aniline_water_3.inp > /home/ys/Research/PSID_server_room/orca/aniline_water_3/aniline_water_3.out\n",
      "/home/ys/orca_6_0_1_linux_x86-64_shared_openmpi416/orca /home/ys/Research/PSID_server_room/orca/p_toluidine_water_3/p_toluidine_water_3.inp > /home/ys/Research/PSID_server_room/orca/p_toluidine_water_3/p_toluidine_water_3.out\n"
     ]
    }
   ],
   "source": [
    "import os \n",
    "fullcommand = \"\"\n",
    "ORCAPATH  = \"/home/ys/orca_6_0_1_linux_x86-64_shared_openmpi416/orca\"\n",
    "for i in [x for x in os.listdir() if \"_3\" in x]:\n",
    "    command = ORCAPATH + \" \"   \n",
    "    command += f\"/home/ys/Research/PSID_server_room/orca/{i}/{i}.inp > \"\n",
    "    command += f\"/home/ys/Research/PSID_server_room/orca/{i}/{i}.out\"\n",
    "    print(command)\n",
    "    fullcommand+=command + \"\\n\\n\"\n",
    "with open(\"20250209_command01.sh\", \"w\") as f:\n",
    "    f.write(fullcommand)"
   ]
  }
 ],
 "metadata": {
  "kernelspec": {
   "display_name": "python39",
   "language": "python",
   "name": "python3"
  },
  "language_info": {
   "codemirror_mode": {
    "name": "ipython",
    "version": 3
   },
   "file_extension": ".py",
   "mimetype": "text/x-python",
   "name": "python",
   "nbconvert_exporter": "python",
   "pygments_lexer": "ipython3",
   "version": "3.9.19"
  }
 },
 "nbformat": 4,
 "nbformat_minor": 2
}
