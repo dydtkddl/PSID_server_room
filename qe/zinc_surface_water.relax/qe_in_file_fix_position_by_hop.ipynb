{
 "cells": [
  {
   "cell_type": "code",
   "execution_count": 6,
   "metadata": {},
   "outputs": [
    {
     "data": {
      "text/plain": [
       "'c:\\\\Users\\\\PSID_PC_20\\\\Desktop\\\\[00]Projects\\\\PSID_server_room\\\\qe\\\\zinc_surface_water.relax\\\\Zn_002_water\\\\Zn_002_water.relax.in'"
      ]
     },
     "execution_count": 6,
     "metadata": {},
     "output_type": "execute_result"
    }
   ],
   "source": [
    "import os \n",
    "dirs = [ os.path.join(os.path.abspath(\"./\") , x) for x in os.listdir() if os.path.isdir(x) and \"Zn\" in x]\n",
    "ex =  dirs[0]\n",
    "infile = [ os.path.join(ex , x) for x in os.listdir(ex) if \"Zn\" in x ][0]\n",
    "infile"
   ]
  },
  {
   "cell_type": "code",
   "execution_count": 7,
   "metadata": {},
   "outputs": [
    {
     "name": "stdout",
     "output_type": "stream",
     "text": [
      "✅ 완료! 새로운 홉 기반 Relax 설정 파일 c:\\Users\\PSID_PC_20\\Desktop\\[00]Projects\\PSID_server_room\\qe\\zinc_surface_water.relax\\Zn_002_water\\atomic_positions_hop_based.in이(가) 생성되었습니다.\n"
     ]
    }
   ],
   "source": [
    "import os\n",
    "import numpy as np\n",
    "from scipy.spatial import KDTree\n",
    "\n",
    "# 설정: 원자 파일 이름과 출력 파일\n",
    "input_file = infile\n",
    "output_file = os.path.join(ex, \"atomic_positions_hop_based.in\")\n",
    "\n",
    "# 흡착 중심 좌표 (흡착체가 있는 위치)\n",
    "adsorption_center = np.array([3.098737, 4.415163, 5.5375210])\n",
    "\n",
    "# 홉별 Relax 설정 (최대 3 홉까지 Relax)\n",
    "max_relax_hop = 2  # 1~2 홉까지 Relax, 3 홉 이상 고정\n",
    "\n",
    "# 원자 데이터 저장 리스트\n",
    "elements = []\n",
    "coordinates = []\n",
    "\n",
    "# 파일 읽기\n",
    "with open(input_file, \"r\") as f:\n",
    "    lines = f.readlines()\n",
    "\n",
    "for line in lines:\n",
    "    split_line = line.strip().split()\n",
    "    if len(split_line) == 4:  # 원자 정보가 있는 줄만 처리\n",
    "        element, x, y, z = split_line\n",
    "        coordinates.append([float(x), float(y), float(z)])\n",
    "        elements.append(element)\n",
    "\n",
    "# NumPy 배열로 변환\n",
    "coordinates = np.array(coordinates)\n",
    "\n",
    "# KDTree를 사용하여 홉(shell) 계산\n",
    "tree = KDTree(coordinates)\n",
    "\n",
    "# 흡착 중심과 가장 가까운 원자 찾기 (흡착 사이트 설정)\n",
    "_, nearest_index = tree.query(adsorption_center)\n",
    "first_shell_indices = tree.query_ball_point(coordinates[nearest_index], r=2.5)  # 1 홉 범위\n",
    "\n",
    "# 2 홉 찾기: 1 홉 원자들에서 추가적으로 거리 계산\n",
    "second_shell_indices = set()\n",
    "for idx in first_shell_indices:\n",
    "    neighbors = tree.query_ball_point(coordinates[idx], r=2.5)  # 2 홉 범위\n",
    "    second_shell_indices.update(neighbors)\n",
    "\n",
    "# 3 홉 이상 원자들\n",
    "third_shell_indices = set(range(len(coordinates))) - set(first_shell_indices) - set(second_shell_indices)\n",
    "\n",
    "# 결과 저장\n",
    "output_lines = []\n",
    "for i, (element, coord) in enumerate(zip(elements, coordinates)):\n",
    "    x, y, z = coord\n",
    "\n",
    "    if i in first_shell_indices:  # 1 홉 (Relax)\n",
    "        output_lines.append(f\"{element}  {x:.6f}  {y:.6f}  {z:.6f}  1  1  1\\n\")\n",
    "    elif i in second_shell_indices and max_relax_hop >= 2:  # 2 홉 (조건부 Relax)\n",
    "        output_lines.append(f\"{element}  {x:.6f}  {y:.6f}  {z:.6f}  1  1  1\\n\")\n",
    "    else:  # 3 홉 이상 (고정)\n",
    "        output_lines.append(f\"{element}  {x:.6f}  {y:.6f}  {z:.6f}  0  0  0\\n\")\n",
    "\n",
    "# 새로운 파일로 저장\n",
    "with open(output_file, \"w\") as f:\n",
    "    f.writelines(output_lines)\n",
    "\n",
    "print(f\"✅ 완료! 새로운 홉 기반 Relax 설정 파일 {output_file}이(가) 생성되었습니다.\")\n"
   ]
  },
  {
   "cell_type": "markdown",
   "metadata": {},
   "source": [
    "## 고정된 분자 시각화 matplotlib"
   ]
  },
  {
   "cell_type": "code",
   "execution_count": 8,
   "metadata": {},
   "outputs": [
    {
     "ename": "FileNotFoundError",
     "evalue": "[Errno 2] No such file or directory: 'atomic_positions.in'",
     "output_type": "error",
     "traceback": [
      "\u001b[1;31m---------------------------------------------------------------------------\u001b[0m",
      "\u001b[1;31mFileNotFoundError\u001b[0m                         Traceback (most recent call last)",
      "Cell \u001b[1;32mIn[8], line 18\u001b[0m\n\u001b[0;32m     15\u001b[0m relax_flags \u001b[38;5;241m=\u001b[39m []\n\u001b[0;32m     17\u001b[0m \u001b[38;5;66;03m# 파일 읽기\u001b[39;00m\n\u001b[1;32m---> 18\u001b[0m \u001b[38;5;28;01mwith\u001b[39;00m \u001b[38;5;28;43mopen\u001b[39;49m\u001b[43m(\u001b[49m\u001b[43minput_file\u001b[49m\u001b[43m,\u001b[49m\u001b[43m \u001b[49m\u001b[38;5;124;43m\"\u001b[39;49m\u001b[38;5;124;43mr\u001b[39;49m\u001b[38;5;124;43m\"\u001b[39;49m\u001b[43m)\u001b[49m \u001b[38;5;28;01mas\u001b[39;00m f:\n\u001b[0;32m     19\u001b[0m     lines \u001b[38;5;241m=\u001b[39m f\u001b[38;5;241m.\u001b[39mreadlines()\n\u001b[0;32m     21\u001b[0m \u001b[38;5;28;01mfor\u001b[39;00m line \u001b[38;5;129;01min\u001b[39;00m lines:\n",
      "File \u001b[1;32mc:\\Users\\PSID_PC_20\\anaconda3\\envs\\python39\\lib\\site-packages\\IPython\\core\\interactiveshell.py:310\u001b[0m, in \u001b[0;36m_modified_open\u001b[1;34m(file, *args, **kwargs)\u001b[0m\n\u001b[0;32m    303\u001b[0m \u001b[38;5;28;01mif\u001b[39;00m file \u001b[38;5;129;01min\u001b[39;00m {\u001b[38;5;241m0\u001b[39m, \u001b[38;5;241m1\u001b[39m, \u001b[38;5;241m2\u001b[39m}:\n\u001b[0;32m    304\u001b[0m     \u001b[38;5;28;01mraise\u001b[39;00m \u001b[38;5;167;01mValueError\u001b[39;00m(\n\u001b[0;32m    305\u001b[0m         \u001b[38;5;124mf\u001b[39m\u001b[38;5;124m\"\u001b[39m\u001b[38;5;124mIPython won\u001b[39m\u001b[38;5;124m'\u001b[39m\u001b[38;5;124mt let you open fd=\u001b[39m\u001b[38;5;132;01m{\u001b[39;00mfile\u001b[38;5;132;01m}\u001b[39;00m\u001b[38;5;124m by default \u001b[39m\u001b[38;5;124m\"\u001b[39m\n\u001b[0;32m    306\u001b[0m         \u001b[38;5;124m\"\u001b[39m\u001b[38;5;124mas it is likely to crash IPython. If you know what you are doing, \u001b[39m\u001b[38;5;124m\"\u001b[39m\n\u001b[0;32m    307\u001b[0m         \u001b[38;5;124m\"\u001b[39m\u001b[38;5;124myou can use builtins\u001b[39m\u001b[38;5;124m'\u001b[39m\u001b[38;5;124m open.\u001b[39m\u001b[38;5;124m\"\u001b[39m\n\u001b[0;32m    308\u001b[0m     )\n\u001b[1;32m--> 310\u001b[0m \u001b[38;5;28;01mreturn\u001b[39;00m io_open(file, \u001b[38;5;241m*\u001b[39margs, \u001b[38;5;241m*\u001b[39m\u001b[38;5;241m*\u001b[39mkwargs)\n",
      "\u001b[1;31mFileNotFoundError\u001b[0m: [Errno 2] No such file or directory: 'atomic_positions.in'"
     ]
    }
   ],
   "source": [
    "import numpy as np\n",
    "import matplotlib.pyplot as plt\n",
    "import json\n",
    "\n",
    "# 원소 색상 파일 불러오기\n",
    "with open(\"element_colors.json\", \"r\") as f:\n",
    "    element_colors = json.load(f)\n",
    "\n",
    "# ATOMIC_POSITIONS 파일 입력\n",
    "input_file = \"atomic_positions.in\"\n",
    "\n",
    "# 원자 데이터 저장 리스트\n",
    "elements = []\n",
    "coordinates = []\n",
    "relax_flags = []\n",
    "\n",
    "# 파일 읽기\n",
    "with open(input_file, \"r\") as f:\n",
    "    lines = f.readlines()\n",
    "\n",
    "for line in lines:\n",
    "    split_line = line.strip().split()\n",
    "    if len(split_line) == 7:  # 원자 정보가 있는 줄만 처리\n",
    "        element, x, y, z, rx, ry, rz = split_line\n",
    "        coordinates.append([float(x), float(y), float(z)])\n",
    "        elements.append(element)\n",
    "        relax_flags.append((int(rx), int(ry), int(rz)))\n",
    "\n",
    "# NumPy 배열 변환\n",
    "coordinates = np.array(coordinates)\n",
    "relax_flags = np.array(relax_flags)\n",
    "\n",
    "# Relax 여부 판단 (1 1 1 인 경우 색깔 변경)\n",
    "is_relaxed = np.all(relax_flags == (1, 1, 1), axis=1)\n",
    "\n",
    "# 플롯 생성\n",
    "fig = plt.figure(figsize=(8, 8))\n",
    "ax = fig.add_subplot(111, projection='3d')\n",
    "\n",
    "# Relaxed 원자 (원소별 색상 적용)\n",
    "for element in set(elements):  # 중복 없이 원소 리스트 추출\n",
    "    element_mask = (np.array(elements) == element) & is_relaxed  # 해당 원소 & Relax된 원자만 선택\n",
    "    if np.any(element_mask):  # 존재하는 경우만 추가\n",
    "        ax.scatter(coordinates[element_mask, 0], coordinates[element_mask, 1], coordinates[element_mask, 2],\n",
    "                   color=element_colors.get(element, \"black\"), label=f\"{element} (Relaxed)\", s=50, edgecolors='k')\n",
    "\n",
    "# Fixed 원자 (회색)\n",
    "ax.scatter(coordinates[~is_relaxed, 0], coordinates[~is_relaxed, 1], coordinates[~is_relaxed, 2], \n",
    "           color='gray', label=\"Fixed Atoms\", s=30, alpha=0.5)\n",
    "\n",
    "# 라벨 및 스타일 설정\n",
    "ax.set_xlabel(\"X (Å)\")\n",
    "ax.set_ylabel(\"Y (Å)\")\n",
    "ax.set_zlabel(\"Z (Å)\")\n",
    "ax.legend()\n",
    "plt.title(\"Relaxed (Colored by Element) vs Fixed (Gray) Atoms\")\n",
    "\n",
    "# 그래프 출력\n",
    "plt.show()\n"
   ]
  },
  {
   "cell_type": "code",
   "execution_count": 9,
   "metadata": {},
   "outputs": [
    {
     "data": {
      "application/vnd.plotly.v1+json": {
       "config": {
        "plotlyServerURL": "https://plot.ly"
       },
       "data": [
        {
         "marker": {
          "color": "#FFFFFF",
          "opacity": 1,
          "size": 6
         },
         "mode": "markers",
         "name": "H (Relaxed)",
         "type": "scatter3d",
         "x": [
          3.21267,
          2.822871
         ],
         "y": [
          3.46832,
          4.786656
         ],
         "z": [
          5.715364,
          6.390174
         ]
        },
        {
         "marker": {
          "color": "#FF0D0D",
          "opacity": 1,
          "size": 6
         },
         "mode": "markers",
         "name": "O (Relaxed)",
         "type": "scatter3d",
         "x": [
          3.098737
         ],
         "y": [
          4.415163
         ],
         "z": [
          5.537521
         ]
        },
        {
         "marker": {
          "color": "#7D80B0",
          "opacity": 1,
          "size": 6
         },
         "mode": "markers",
         "name": "Zn (Relaxed)",
         "type": "scatter3d",
         "x": [
          3.921473,
          2.614298,
          1.307123,
          3.921473,
          2.614298,
          5.228648,
          2.614402,
          3.921577,
          2.614402,
          5.228752,
          3.921577
         ],
         "y": [
          3.773519,
          1.509426,
          3.773519,
          3.773519,
          6.037613,
          6.037613,
          3.018761,
          5.282855,
          3.018761,
          3.018761,
          5.282855
         ],
         "z": [
          1.218289,
          3.654868,
          3.654868,
          3.654868,
          3.654868,
          3.654868,
          1.218289,
          1.218289,
          3.654868,
          3.654868,
          3.654868
         ]
        },
        {
         "marker": {
          "color": "gray",
          "opacity": 0.5,
          "size": 5
         },
         "mode": "markers",
         "name": "Fixed Atoms",
         "type": "scatter3d",
         "x": [
          -0.000052,
          -1.307227,
          -2.614402,
          -3.921577,
          2.614298,
          1.307123,
          -0.000052,
          -1.307227,
          5.228648,
          2.614298,
          1.307123,
          7.842998,
          6.535823,
          5.228648,
          3.921473,
          -0.000052,
          -1.307227,
          -2.614402,
          -3.921577,
          -0.000052,
          -1.307227,
          5.228648,
          1.307123,
          7.842998,
          6.535823,
          3.921473,
          1.307227,
          0.000052,
          -1.307123,
          -2.614298,
          3.921577,
          1.307227,
          0.000052,
          6.535927,
          5.228752,
          2.614402,
          9.150277,
          7.843102,
          6.535927,
          5.228752,
          1.307227,
          0.000052,
          -1.307123,
          -2.614298,
          3.921577,
          1.307227,
          0.000052,
          6.535927,
          2.614402,
          9.150277,
          7.843102,
          6.535927,
          5.228752
         ],
         "y": [
          1.509426,
          3.773519,
          6.037613,
          8.301706,
          1.509426,
          3.773519,
          6.037613,
          8.301706,
          1.509426,
          6.037613,
          8.301706,
          1.509426,
          3.773519,
          6.037613,
          8.301706,
          1.509426,
          3.773519,
          6.037613,
          8.301706,
          6.037613,
          8.301706,
          1.509426,
          8.301706,
          1.509426,
          3.773519,
          8.301706,
          0.754668,
          3.018761,
          5.282855,
          7.546948,
          0.754668,
          5.282855,
          7.546948,
          0.754668,
          3.018761,
          7.546948,
          0.754668,
          3.018761,
          5.282855,
          7.546948,
          0.754668,
          3.018761,
          5.282855,
          7.546948,
          0.754668,
          5.282855,
          7.546948,
          0.754668,
          7.546948,
          0.754668,
          3.018761,
          5.282855,
          7.546948
         ],
         "z": [
          1.218289,
          1.218289,
          1.218289,
          1.218289,
          1.218289,
          1.218289,
          1.218289,
          1.218289,
          1.218289,
          1.218289,
          1.218289,
          1.218289,
          1.218289,
          1.218289,
          1.218289,
          3.654868,
          3.654868,
          3.654868,
          3.654868,
          3.654868,
          3.654868,
          3.654868,
          3.654868,
          3.654868,
          3.654868,
          3.654868,
          1.218289,
          1.218289,
          1.218289,
          1.218289,
          1.218289,
          1.218289,
          1.218289,
          1.218289,
          1.218289,
          1.218289,
          1.218289,
          1.218289,
          1.218289,
          1.218289,
          3.654868,
          3.654868,
          3.654868,
          3.654868,
          3.654868,
          3.654868,
          3.654868,
          3.654868,
          3.654868,
          3.654868,
          3.654868,
          3.654868,
          3.654868
         ]
        }
       ],
       "layout": {
        "height": 700,
        "margin": {
         "b": 0,
         "l": 0,
         "r": 0,
         "t": 40
        },
        "scene": {
         "xaxis": {
          "title": {
           "text": "X (Å)"
          }
         },
         "yaxis": {
          "title": {
           "text": "Y (Å)"
          }
         },
         "zaxis": {
          "title": {
           "text": "Z (Å)"
          }
         }
        },
        "template": {
         "data": {
          "bar": [
           {
            "error_x": {
             "color": "#2a3f5f"
            },
            "error_y": {
             "color": "#2a3f5f"
            },
            "marker": {
             "line": {
              "color": "#E5ECF6",
              "width": 0.5
             },
             "pattern": {
              "fillmode": "overlay",
              "size": 10,
              "solidity": 0.2
             }
            },
            "type": "bar"
           }
          ],
          "barpolar": [
           {
            "marker": {
             "line": {
              "color": "#E5ECF6",
              "width": 0.5
             },
             "pattern": {
              "fillmode": "overlay",
              "size": 10,
              "solidity": 0.2
             }
            },
            "type": "barpolar"
           }
          ],
          "carpet": [
           {
            "aaxis": {
             "endlinecolor": "#2a3f5f",
             "gridcolor": "white",
             "linecolor": "white",
             "minorgridcolor": "white",
             "startlinecolor": "#2a3f5f"
            },
            "baxis": {
             "endlinecolor": "#2a3f5f",
             "gridcolor": "white",
             "linecolor": "white",
             "minorgridcolor": "white",
             "startlinecolor": "#2a3f5f"
            },
            "type": "carpet"
           }
          ],
          "choropleth": [
           {
            "colorbar": {
             "outlinewidth": 0,
             "ticks": ""
            },
            "type": "choropleth"
           }
          ],
          "contour": [
           {
            "colorbar": {
             "outlinewidth": 0,
             "ticks": ""
            },
            "colorscale": [
             [
              0,
              "#0d0887"
             ],
             [
              0.1111111111111111,
              "#46039f"
             ],
             [
              0.2222222222222222,
              "#7201a8"
             ],
             [
              0.3333333333333333,
              "#9c179e"
             ],
             [
              0.4444444444444444,
              "#bd3786"
             ],
             [
              0.5555555555555556,
              "#d8576b"
             ],
             [
              0.6666666666666666,
              "#ed7953"
             ],
             [
              0.7777777777777778,
              "#fb9f3a"
             ],
             [
              0.8888888888888888,
              "#fdca26"
             ],
             [
              1,
              "#f0f921"
             ]
            ],
            "type": "contour"
           }
          ],
          "contourcarpet": [
           {
            "colorbar": {
             "outlinewidth": 0,
             "ticks": ""
            },
            "type": "contourcarpet"
           }
          ],
          "heatmap": [
           {
            "colorbar": {
             "outlinewidth": 0,
             "ticks": ""
            },
            "colorscale": [
             [
              0,
              "#0d0887"
             ],
             [
              0.1111111111111111,
              "#46039f"
             ],
             [
              0.2222222222222222,
              "#7201a8"
             ],
             [
              0.3333333333333333,
              "#9c179e"
             ],
             [
              0.4444444444444444,
              "#bd3786"
             ],
             [
              0.5555555555555556,
              "#d8576b"
             ],
             [
              0.6666666666666666,
              "#ed7953"
             ],
             [
              0.7777777777777778,
              "#fb9f3a"
             ],
             [
              0.8888888888888888,
              "#fdca26"
             ],
             [
              1,
              "#f0f921"
             ]
            ],
            "type": "heatmap"
           }
          ],
          "heatmapgl": [
           {
            "colorbar": {
             "outlinewidth": 0,
             "ticks": ""
            },
            "colorscale": [
             [
              0,
              "#0d0887"
             ],
             [
              0.1111111111111111,
              "#46039f"
             ],
             [
              0.2222222222222222,
              "#7201a8"
             ],
             [
              0.3333333333333333,
              "#9c179e"
             ],
             [
              0.4444444444444444,
              "#bd3786"
             ],
             [
              0.5555555555555556,
              "#d8576b"
             ],
             [
              0.6666666666666666,
              "#ed7953"
             ],
             [
              0.7777777777777778,
              "#fb9f3a"
             ],
             [
              0.8888888888888888,
              "#fdca26"
             ],
             [
              1,
              "#f0f921"
             ]
            ],
            "type": "heatmapgl"
           }
          ],
          "histogram": [
           {
            "marker": {
             "pattern": {
              "fillmode": "overlay",
              "size": 10,
              "solidity": 0.2
             }
            },
            "type": "histogram"
           }
          ],
          "histogram2d": [
           {
            "colorbar": {
             "outlinewidth": 0,
             "ticks": ""
            },
            "colorscale": [
             [
              0,
              "#0d0887"
             ],
             [
              0.1111111111111111,
              "#46039f"
             ],
             [
              0.2222222222222222,
              "#7201a8"
             ],
             [
              0.3333333333333333,
              "#9c179e"
             ],
             [
              0.4444444444444444,
              "#bd3786"
             ],
             [
              0.5555555555555556,
              "#d8576b"
             ],
             [
              0.6666666666666666,
              "#ed7953"
             ],
             [
              0.7777777777777778,
              "#fb9f3a"
             ],
             [
              0.8888888888888888,
              "#fdca26"
             ],
             [
              1,
              "#f0f921"
             ]
            ],
            "type": "histogram2d"
           }
          ],
          "histogram2dcontour": [
           {
            "colorbar": {
             "outlinewidth": 0,
             "ticks": ""
            },
            "colorscale": [
             [
              0,
              "#0d0887"
             ],
             [
              0.1111111111111111,
              "#46039f"
             ],
             [
              0.2222222222222222,
              "#7201a8"
             ],
             [
              0.3333333333333333,
              "#9c179e"
             ],
             [
              0.4444444444444444,
              "#bd3786"
             ],
             [
              0.5555555555555556,
              "#d8576b"
             ],
             [
              0.6666666666666666,
              "#ed7953"
             ],
             [
              0.7777777777777778,
              "#fb9f3a"
             ],
             [
              0.8888888888888888,
              "#fdca26"
             ],
             [
              1,
              "#f0f921"
             ]
            ],
            "type": "histogram2dcontour"
           }
          ],
          "mesh3d": [
           {
            "colorbar": {
             "outlinewidth": 0,
             "ticks": ""
            },
            "type": "mesh3d"
           }
          ],
          "parcoords": [
           {
            "line": {
             "colorbar": {
              "outlinewidth": 0,
              "ticks": ""
             }
            },
            "type": "parcoords"
           }
          ],
          "pie": [
           {
            "automargin": true,
            "type": "pie"
           }
          ],
          "scatter": [
           {
            "fillpattern": {
             "fillmode": "overlay",
             "size": 10,
             "solidity": 0.2
            },
            "type": "scatter"
           }
          ],
          "scatter3d": [
           {
            "line": {
             "colorbar": {
              "outlinewidth": 0,
              "ticks": ""
             }
            },
            "marker": {
             "colorbar": {
              "outlinewidth": 0,
              "ticks": ""
             }
            },
            "type": "scatter3d"
           }
          ],
          "scattercarpet": [
           {
            "marker": {
             "colorbar": {
              "outlinewidth": 0,
              "ticks": ""
             }
            },
            "type": "scattercarpet"
           }
          ],
          "scattergeo": [
           {
            "marker": {
             "colorbar": {
              "outlinewidth": 0,
              "ticks": ""
             }
            },
            "type": "scattergeo"
           }
          ],
          "scattergl": [
           {
            "marker": {
             "colorbar": {
              "outlinewidth": 0,
              "ticks": ""
             }
            },
            "type": "scattergl"
           }
          ],
          "scattermapbox": [
           {
            "marker": {
             "colorbar": {
              "outlinewidth": 0,
              "ticks": ""
             }
            },
            "type": "scattermapbox"
           }
          ],
          "scatterpolar": [
           {
            "marker": {
             "colorbar": {
              "outlinewidth": 0,
              "ticks": ""
             }
            },
            "type": "scatterpolar"
           }
          ],
          "scatterpolargl": [
           {
            "marker": {
             "colorbar": {
              "outlinewidth": 0,
              "ticks": ""
             }
            },
            "type": "scatterpolargl"
           }
          ],
          "scatterternary": [
           {
            "marker": {
             "colorbar": {
              "outlinewidth": 0,
              "ticks": ""
             }
            },
            "type": "scatterternary"
           }
          ],
          "surface": [
           {
            "colorbar": {
             "outlinewidth": 0,
             "ticks": ""
            },
            "colorscale": [
             [
              0,
              "#0d0887"
             ],
             [
              0.1111111111111111,
              "#46039f"
             ],
             [
              0.2222222222222222,
              "#7201a8"
             ],
             [
              0.3333333333333333,
              "#9c179e"
             ],
             [
              0.4444444444444444,
              "#bd3786"
             ],
             [
              0.5555555555555556,
              "#d8576b"
             ],
             [
              0.6666666666666666,
              "#ed7953"
             ],
             [
              0.7777777777777778,
              "#fb9f3a"
             ],
             [
              0.8888888888888888,
              "#fdca26"
             ],
             [
              1,
              "#f0f921"
             ]
            ],
            "type": "surface"
           }
          ],
          "table": [
           {
            "cells": {
             "fill": {
              "color": "#EBF0F8"
             },
             "line": {
              "color": "white"
             }
            },
            "header": {
             "fill": {
              "color": "#C8D4E3"
             },
             "line": {
              "color": "white"
             }
            },
            "type": "table"
           }
          ]
         },
         "layout": {
          "annotationdefaults": {
           "arrowcolor": "#2a3f5f",
           "arrowhead": 0,
           "arrowwidth": 1
          },
          "autotypenumbers": "strict",
          "coloraxis": {
           "colorbar": {
            "outlinewidth": 0,
            "ticks": ""
           }
          },
          "colorscale": {
           "diverging": [
            [
             0,
             "#8e0152"
            ],
            [
             0.1,
             "#c51b7d"
            ],
            [
             0.2,
             "#de77ae"
            ],
            [
             0.3,
             "#f1b6da"
            ],
            [
             0.4,
             "#fde0ef"
            ],
            [
             0.5,
             "#f7f7f7"
            ],
            [
             0.6,
             "#e6f5d0"
            ],
            [
             0.7,
             "#b8e186"
            ],
            [
             0.8,
             "#7fbc41"
            ],
            [
             0.9,
             "#4d9221"
            ],
            [
             1,
             "#276419"
            ]
           ],
           "sequential": [
            [
             0,
             "#0d0887"
            ],
            [
             0.1111111111111111,
             "#46039f"
            ],
            [
             0.2222222222222222,
             "#7201a8"
            ],
            [
             0.3333333333333333,
             "#9c179e"
            ],
            [
             0.4444444444444444,
             "#bd3786"
            ],
            [
             0.5555555555555556,
             "#d8576b"
            ],
            [
             0.6666666666666666,
             "#ed7953"
            ],
            [
             0.7777777777777778,
             "#fb9f3a"
            ],
            [
             0.8888888888888888,
             "#fdca26"
            ],
            [
             1,
             "#f0f921"
            ]
           ],
           "sequentialminus": [
            [
             0,
             "#0d0887"
            ],
            [
             0.1111111111111111,
             "#46039f"
            ],
            [
             0.2222222222222222,
             "#7201a8"
            ],
            [
             0.3333333333333333,
             "#9c179e"
            ],
            [
             0.4444444444444444,
             "#bd3786"
            ],
            [
             0.5555555555555556,
             "#d8576b"
            ],
            [
             0.6666666666666666,
             "#ed7953"
            ],
            [
             0.7777777777777778,
             "#fb9f3a"
            ],
            [
             0.8888888888888888,
             "#fdca26"
            ],
            [
             1,
             "#f0f921"
            ]
           ]
          },
          "colorway": [
           "#636efa",
           "#EF553B",
           "#00cc96",
           "#ab63fa",
           "#FFA15A",
           "#19d3f3",
           "#FF6692",
           "#B6E880",
           "#FF97FF",
           "#FECB52"
          ],
          "font": {
           "color": "#2a3f5f"
          },
          "geo": {
           "bgcolor": "white",
           "lakecolor": "white",
           "landcolor": "#E5ECF6",
           "showlakes": true,
           "showland": true,
           "subunitcolor": "white"
          },
          "hoverlabel": {
           "align": "left"
          },
          "hovermode": "closest",
          "mapbox": {
           "style": "light"
          },
          "paper_bgcolor": "white",
          "plot_bgcolor": "#E5ECF6",
          "polar": {
           "angularaxis": {
            "gridcolor": "white",
            "linecolor": "white",
            "ticks": ""
           },
           "bgcolor": "#E5ECF6",
           "radialaxis": {
            "gridcolor": "white",
            "linecolor": "white",
            "ticks": ""
           }
          },
          "scene": {
           "xaxis": {
            "backgroundcolor": "#E5ECF6",
            "gridcolor": "white",
            "gridwidth": 2,
            "linecolor": "white",
            "showbackground": true,
            "ticks": "",
            "zerolinecolor": "white"
           },
           "yaxis": {
            "backgroundcolor": "#E5ECF6",
            "gridcolor": "white",
            "gridwidth": 2,
            "linecolor": "white",
            "showbackground": true,
            "ticks": "",
            "zerolinecolor": "white"
           },
           "zaxis": {
            "backgroundcolor": "#E5ECF6",
            "gridcolor": "white",
            "gridwidth": 2,
            "linecolor": "white",
            "showbackground": true,
            "ticks": "",
            "zerolinecolor": "white"
           }
          },
          "shapedefaults": {
           "line": {
            "color": "#2a3f5f"
           }
          },
          "ternary": {
           "aaxis": {
            "gridcolor": "white",
            "linecolor": "white",
            "ticks": ""
           },
           "baxis": {
            "gridcolor": "white",
            "linecolor": "white",
            "ticks": ""
           },
           "bgcolor": "#E5ECF6",
           "caxis": {
            "gridcolor": "white",
            "linecolor": "white",
            "ticks": ""
           }
          },
          "title": {
           "x": 0.05
          },
          "xaxis": {
           "automargin": true,
           "gridcolor": "white",
           "linecolor": "white",
           "ticks": "",
           "title": {
            "standoff": 15
           },
           "zerolinecolor": "white",
           "zerolinewidth": 2
          },
          "yaxis": {
           "automargin": true,
           "gridcolor": "white",
           "linecolor": "white",
           "ticks": "",
           "title": {
            "standoff": 15
           },
           "zerolinecolor": "white",
           "zerolinewidth": 2
          }
         }
        },
        "title": {
         "text": "Interactive 3D Atom Visualization (Color by Element)"
        }
       }
      }
     },
     "metadata": {},
     "output_type": "display_data"
    }
   ],
   "source": [
    "import numpy as np\n",
    "import plotly.graph_objects as go\n",
    "import json\n",
    "\n",
    "# ATOMIC_POSITIONS 파일 입력\n",
    "input_file = output_file\n",
    "\n",
    "# 원소 색상 파일 불러오기\n",
    "with open(\"element_colors.json\", \"r\") as f:\n",
    "    element_colors = json.load(f)\n",
    "\n",
    "# 원자 데이터 저장 리스트\n",
    "elements = []\n",
    "coordinates = []\n",
    "relax_flags = []\n",
    "\n",
    "# 파일 읽기\n",
    "with open(input_file, \"r\") as f:\n",
    "    lines = f.readlines()\n",
    "\n",
    "for line in lines:\n",
    "    split_line = line.strip().split()\n",
    "    \n",
    "    # 7개 값이 있어야 정상적인 원자 데이터로 간주\n",
    "    if len(split_line) == 7:\n",
    "        element, x, y, z, rx, ry, rz = split_line\n",
    "        coordinates.append([float(x), float(y), float(z)])\n",
    "        elements.append(element)\n",
    "        relax_flags.append([int(rx), int(ry), int(rz)])\n",
    "\n",
    "# numpy 배열 변환\n",
    "coordinates = np.array(coordinates)\n",
    "relax_flags = np.array(relax_flags)\n",
    "\n",
    "# Relax 여부 판단 (모든 좌표에서 1 1 1인 경우 Relax로 분류)\n",
    "is_relaxed = np.all(relax_flags == [1, 1, 1], axis=1)\n",
    "\n",
    "# 3D 시각화\n",
    "fig = go.Figure()\n",
    "\n",
    "# Relaxed 원자 (원소별 색상)\n",
    "for element in set(elements):  # 중복 없이 원소 리스트 추출\n",
    "    element_mask = (np.array(elements) == element) & is_relaxed  # 해당 원소 & Relax된 원자만 선택\n",
    "    if np.any(element_mask):  # 존재하는 경우만 추가\n",
    "        fig.add_trace(go.Scatter3d(\n",
    "            x=coordinates[element_mask, 0],\n",
    "            y=coordinates[element_mask, 1],\n",
    "            z=coordinates[element_mask, 2],\n",
    "            mode='markers',\n",
    "            marker=dict(size=6, color=element_colors.get(element, \"black\"), opacity=1.0),\n",
    "            name=f\"{element} (Relaxed)\"\n",
    "        ))\n",
    "\n",
    "# Fixed 원자 (회색)\n",
    "fig.add_trace(go.Scatter3d(\n",
    "    x=coordinates[~is_relaxed, 0], \n",
    "    y=coordinates[~is_relaxed, 1], \n",
    "    z=coordinates[~is_relaxed, 2],\n",
    "    mode='markers', marker=dict(size=5, color='gray', opacity=0.5),\n",
    "    name=\"Fixed Atoms\"\n",
    "))\n",
    "\n",
    "# 3D 레이아웃 설정\n",
    "fig.update_layout(\n",
    "    title=\"Interactive 3D Atom Visualization (Color by Element)\",\n",
    "    scene=dict(\n",
    "        xaxis_title=\"X (Å)\",\n",
    "        yaxis_title=\"Y (Å)\",\n",
    "        zaxis_title=\"Z (Å)\",\n",
    "    ),\n",
    "    margin=dict(l=0, r=0, b=0, t=40),\n",
    "    height=700\n",
    ")\n",
    "\n",
    "# 인터랙티브 플롯 출력\n",
    "fig.show()\n"
   ]
  },
  {
   "cell_type": "code",
   "execution_count": 9,
   "metadata": {},
   "outputs": [
    {
     "data": {
      "text/plain": [
       "array([], dtype=float64)"
      ]
     },
     "execution_count": 9,
     "metadata": {},
     "output_type": "execute_result"
    }
   ],
   "source": [
    "relax_flags"
   ]
  },
  {
   "cell_type": "code",
   "execution_count": 23,
   "metadata": {},
   "outputs": [
    {
     "name": "stdout",
     "output_type": "stream",
     "text": [
      "5.24.1\n"
     ]
    }
   ],
   "source": [
    "import plotly\n",
    "print(plotly.__version__)\n"
   ]
  }
 ],
 "metadata": {
  "kernelspec": {
   "display_name": "python39",
   "language": "python",
   "name": "python3"
  },
  "language_info": {
   "codemirror_mode": {
    "name": "ipython",
    "version": 3
   },
   "file_extension": ".py",
   "mimetype": "text/x-python",
   "name": "python",
   "nbconvert_exporter": "python",
   "pygments_lexer": "ipython3",
   "version": "3.9.19"
  }
 },
 "nbformat": 4,
 "nbformat_minor": 2
}
