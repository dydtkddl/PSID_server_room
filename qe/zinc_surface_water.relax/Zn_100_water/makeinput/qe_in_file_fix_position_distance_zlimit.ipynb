{
 "cells": [
  {
   "cell_type": "code",
   "execution_count": 2,
   "metadata": {},
   "outputs": [],
   "source": [
    "import os \n",
    "infile = \"Zn_100_water.relax.in\""
   ]
  },
  {
   "cell_type": "markdown",
   "metadata": {},
   "source": [
    "## 3차원 구 방식"
   ]
  },
  {
   "cell_type": "code",
   "execution_count": 7,
   "metadata": {},
   "outputs": [
    {
     "name": "stdout",
     "output_type": "stream",
     "text": [
      "✅ 완료! 새로운 파일 atomic_positions_adsorption.in이(가) 생성되었습니다.\n"
     ]
    }
   ],
   "source": [
    "import os\n",
    "import numpy as np\n",
    "\n",
    "# 설정: 원자 파일 이름과 흡착체-금속 거리 기준 (단위: Å)\n",
    "input_file = infile\n",
    "output_file = \"atomic_positions_adsorption.in\"\n",
    "\n",
    "##################################################\n",
    "##################################################\n",
    "##################################################\n",
    "##################################################\n",
    "##################################################\n",
    "adsorption_center = np.array([6.380351  , 5.422767   ,4.385618])  # 흡착 분자의 중심 좌표\n",
    "relax_radius = 5.5  # Relax할 반경 (XY 평면에서의 거리 기준)\n",
    "c_limit = 2.0  # C축(Z 방향)으로 이 값 이상이면 Relax하지 않음\n",
    "##################################################\n",
    "##################################################\n",
    "##################################################\n",
    "##################################################\n",
    "##################################################\n",
    "\n",
    "# 파일 읽기\n",
    "with open(input_file, \"r\") as f:\n",
    "    lines = f.readlines()\n",
    "\n",
    "output_lines = []\n",
    "for line in lines:\n",
    "    split_line = line.strip().split()\n",
    "    if len(split_line) == 4:  # 원자 정보가 있는 줄만 처리\n",
    "        element, x, y, z = split_line\n",
    "        coords = np.array([float(x), float(y), float(z)])\n",
    "        xy_distance = np.linalg.norm(coords[:2] - adsorption_center[:2])  # XY 평면 거리 계산\n",
    "        z_distance = abs(coords[2] - adsorption_center[2])  # Z 방향 거리 계산\n",
    "\n",
    "        # Relax 조건 적용:\n",
    "        # 1) XY 평면에서 relax_radius 이내\n",
    "        # 2) Z 방향에서 c_limit 이내\n",
    "        if xy_distance <= relax_radius and z_distance <= c_limit:\n",
    "            output_lines.append(f\"{element}  {x}  {y}  {z}  1  1  1\\n\")\n",
    "        else:\n",
    "            output_lines.append(f\"{element}  {x}  {y}  {z}  0  0  0\\n\")\n",
    "\n",
    "# 새로운 파일로 저장\n",
    "with open(output_file, \"w\") as f:\n",
    "    f.writelines(output_lines)\n",
    "\n",
    "print(f\"✅ 완료! 새로운 파일 {output_file}이(가) 생성되었습니다.\")\n"
   ]
  },
  {
   "cell_type": "markdown",
   "metadata": {},
   "source": [
    "## 고정된 분자 시각화 plotly"
   ]
  },
  {
   "cell_type": "code",
   "execution_count": 8,
   "metadata": {},
   "outputs": [
    {
     "data": {
      "application/vnd.plotly.v1+json": {
       "config": {
        "plotlyServerURL": "https://plot.ly"
       },
       "data": [
        {
         "marker": {
          "color": "#FF0D0D",
          "opacity": 1,
          "size": 6
         },
         "mode": "markers",
         "name": "O (Relaxed)",
         "type": "scatter3d",
         "x": [
          6.380351
         ],
         "y": [
          5.422767
         ],
         "z": [
          4.385618
         ]
        },
        {
         "marker": {
          "color": "#FFFFFF",
          "opacity": 1,
          "size": 6
         },
         "mode": "markers",
         "name": "H (Relaxed)",
         "type": "scatter3d",
         "x": [
          5.589423,
          7.006679
         ],
         "y": [
          5.011721,
          5.46954
         ],
         "z": [
          4.768528,
          5.12507
         ]
        },
        {
         "marker": {
          "color": "#7D80B0",
          "opacity": 1,
          "size": 6
         },
         "mode": "markers",
         "name": "Zn (Relaxed)",
         "type": "scatter3d",
         "x": [
          1.218285,
          6.091456,
          6.091456,
          6.091456,
          6.091456,
          6.091456,
          10.964612,
          10.964612,
          10.964612,
          3.654871,
          3.654871,
          3.654871,
          3.654871,
          8.528026,
          8.528026,
          8.528026,
          8.528026
         ],
         "y": [
          5.228712,
          -0.000008,
          2.614352,
          5.228712,
          7.843072,
          10.457432,
          2.614352,
          5.228712,
          7.843072,
          1.307191,
          3.921551,
          6.535911,
          9.150271,
          1.307191,
          3.921551,
          6.535911,
          9.150271
         ],
         "z": [
          3.018809,
          3.018809,
          3.018809,
          3.018809,
          3.018809,
          3.018809,
          3.018809,
          3.018809,
          3.018809,
          3.773493,
          3.773493,
          3.773493,
          3.773493,
          3.773493,
          3.773493,
          3.773493,
          3.773493
         ]
        },
        {
         "marker": {
          "color": "gray",
          "opacity": 0.5,
          "size": 5
         },
         "mode": "markers",
         "name": "Fixed Atoms",
         "type": "scatter3d",
         "x": [
          1.218285,
          1.218285,
          1.218285,
          1.218285,
          1.218285,
          6.091456,
          6.091456,
          6.091456,
          6.091456,
          6.091456,
          10.964612,
          10.964612,
          10.964612,
          10.964612,
          10.964612,
          1.218285,
          1.218285,
          1.218285,
          1.218285,
          10.964612,
          10.964612,
          3.654871,
          3.654871,
          3.654871,
          3.654871,
          3.654871,
          8.528026,
          8.528026,
          8.528026,
          8.528026,
          8.528026,
          13.401197,
          13.401197,
          13.401197,
          13.401197,
          13.401197,
          3.654871,
          8.528026,
          13.401197,
          13.401197,
          13.401197,
          13.401197,
          13.401197
         ],
         "y": [
          1.307171,
          3.921531,
          6.535891,
          9.150251,
          11.764611,
          1.307171,
          3.921531,
          6.535891,
          9.150251,
          11.764611,
          1.307171,
          3.921531,
          6.535891,
          9.150251,
          11.764611,
          -0.000008,
          2.614352,
          7.843072,
          10.457432,
          -0.000008,
          10.457432,
          0.00001,
          2.61437,
          5.22873,
          7.84309,
          10.45745,
          0.00001,
          2.61437,
          5.22873,
          7.84309,
          10.45745,
          0.00001,
          2.61437,
          5.22873,
          7.84309,
          10.45745,
          -1.307169,
          -1.307169,
          -1.307169,
          1.307191,
          3.921551,
          6.535911,
          9.150271
         ],
         "z": [
          0.754708,
          0.754708,
          0.754708,
          0.754708,
          0.754708,
          0.754708,
          0.754708,
          0.754708,
          0.754708,
          0.754708,
          0.754708,
          0.754708,
          0.754708,
          0.754708,
          0.754708,
          3.018809,
          3.018809,
          3.018809,
          3.018809,
          3.018809,
          3.018809,
          1.509392,
          1.509392,
          1.509392,
          1.509392,
          1.509392,
          1.509392,
          1.509392,
          1.509392,
          1.509392,
          1.509392,
          1.509392,
          1.509392,
          1.509392,
          1.509392,
          1.509392,
          3.773493,
          3.773493,
          3.773493,
          3.773493,
          3.773493,
          3.773493,
          3.773493
         ]
        }
       ],
       "layout": {
        "height": 700,
        "margin": {
         "b": 0,
         "l": 0,
         "r": 0,
         "t": 40
        },
        "scene": {
         "xaxis": {
          "title": {
           "text": "X (Å)"
          }
         },
         "yaxis": {
          "title": {
           "text": "Y (Å)"
          }
         },
         "zaxis": {
          "title": {
           "text": "Z (Å)"
          }
         }
        },
        "template": {
         "data": {
          "bar": [
           {
            "error_x": {
             "color": "#2a3f5f"
            },
            "error_y": {
             "color": "#2a3f5f"
            },
            "marker": {
             "line": {
              "color": "#E5ECF6",
              "width": 0.5
             },
             "pattern": {
              "fillmode": "overlay",
              "size": 10,
              "solidity": 0.2
             }
            },
            "type": "bar"
           }
          ],
          "barpolar": [
           {
            "marker": {
             "line": {
              "color": "#E5ECF6",
              "width": 0.5
             },
             "pattern": {
              "fillmode": "overlay",
              "size": 10,
              "solidity": 0.2
             }
            },
            "type": "barpolar"
           }
          ],
          "carpet": [
           {
            "aaxis": {
             "endlinecolor": "#2a3f5f",
             "gridcolor": "white",
             "linecolor": "white",
             "minorgridcolor": "white",
             "startlinecolor": "#2a3f5f"
            },
            "baxis": {
             "endlinecolor": "#2a3f5f",
             "gridcolor": "white",
             "linecolor": "white",
             "minorgridcolor": "white",
             "startlinecolor": "#2a3f5f"
            },
            "type": "carpet"
           }
          ],
          "choropleth": [
           {
            "colorbar": {
             "outlinewidth": 0,
             "ticks": ""
            },
            "type": "choropleth"
           }
          ],
          "contour": [
           {
            "colorbar": {
             "outlinewidth": 0,
             "ticks": ""
            },
            "colorscale": [
             [
              0,
              "#0d0887"
             ],
             [
              0.1111111111111111,
              "#46039f"
             ],
             [
              0.2222222222222222,
              "#7201a8"
             ],
             [
              0.3333333333333333,
              "#9c179e"
             ],
             [
              0.4444444444444444,
              "#bd3786"
             ],
             [
              0.5555555555555556,
              "#d8576b"
             ],
             [
              0.6666666666666666,
              "#ed7953"
             ],
             [
              0.7777777777777778,
              "#fb9f3a"
             ],
             [
              0.8888888888888888,
              "#fdca26"
             ],
             [
              1,
              "#f0f921"
             ]
            ],
            "type": "contour"
           }
          ],
          "contourcarpet": [
           {
            "colorbar": {
             "outlinewidth": 0,
             "ticks": ""
            },
            "type": "contourcarpet"
           }
          ],
          "heatmap": [
           {
            "colorbar": {
             "outlinewidth": 0,
             "ticks": ""
            },
            "colorscale": [
             [
              0,
              "#0d0887"
             ],
             [
              0.1111111111111111,
              "#46039f"
             ],
             [
              0.2222222222222222,
              "#7201a8"
             ],
             [
              0.3333333333333333,
              "#9c179e"
             ],
             [
              0.4444444444444444,
              "#bd3786"
             ],
             [
              0.5555555555555556,
              "#d8576b"
             ],
             [
              0.6666666666666666,
              "#ed7953"
             ],
             [
              0.7777777777777778,
              "#fb9f3a"
             ],
             [
              0.8888888888888888,
              "#fdca26"
             ],
             [
              1,
              "#f0f921"
             ]
            ],
            "type": "heatmap"
           }
          ],
          "heatmapgl": [
           {
            "colorbar": {
             "outlinewidth": 0,
             "ticks": ""
            },
            "colorscale": [
             [
              0,
              "#0d0887"
             ],
             [
              0.1111111111111111,
              "#46039f"
             ],
             [
              0.2222222222222222,
              "#7201a8"
             ],
             [
              0.3333333333333333,
              "#9c179e"
             ],
             [
              0.4444444444444444,
              "#bd3786"
             ],
             [
              0.5555555555555556,
              "#d8576b"
             ],
             [
              0.6666666666666666,
              "#ed7953"
             ],
             [
              0.7777777777777778,
              "#fb9f3a"
             ],
             [
              0.8888888888888888,
              "#fdca26"
             ],
             [
              1,
              "#f0f921"
             ]
            ],
            "type": "heatmapgl"
           }
          ],
          "histogram": [
           {
            "marker": {
             "pattern": {
              "fillmode": "overlay",
              "size": 10,
              "solidity": 0.2
             }
            },
            "type": "histogram"
           }
          ],
          "histogram2d": [
           {
            "colorbar": {
             "outlinewidth": 0,
             "ticks": ""
            },
            "colorscale": [
             [
              0,
              "#0d0887"
             ],
             [
              0.1111111111111111,
              "#46039f"
             ],
             [
              0.2222222222222222,
              "#7201a8"
             ],
             [
              0.3333333333333333,
              "#9c179e"
             ],
             [
              0.4444444444444444,
              "#bd3786"
             ],
             [
              0.5555555555555556,
              "#d8576b"
             ],
             [
              0.6666666666666666,
              "#ed7953"
             ],
             [
              0.7777777777777778,
              "#fb9f3a"
             ],
             [
              0.8888888888888888,
              "#fdca26"
             ],
             [
              1,
              "#f0f921"
             ]
            ],
            "type": "histogram2d"
           }
          ],
          "histogram2dcontour": [
           {
            "colorbar": {
             "outlinewidth": 0,
             "ticks": ""
            },
            "colorscale": [
             [
              0,
              "#0d0887"
             ],
             [
              0.1111111111111111,
              "#46039f"
             ],
             [
              0.2222222222222222,
              "#7201a8"
             ],
             [
              0.3333333333333333,
              "#9c179e"
             ],
             [
              0.4444444444444444,
              "#bd3786"
             ],
             [
              0.5555555555555556,
              "#d8576b"
             ],
             [
              0.6666666666666666,
              "#ed7953"
             ],
             [
              0.7777777777777778,
              "#fb9f3a"
             ],
             [
              0.8888888888888888,
              "#fdca26"
             ],
             [
              1,
              "#f0f921"
             ]
            ],
            "type": "histogram2dcontour"
           }
          ],
          "mesh3d": [
           {
            "colorbar": {
             "outlinewidth": 0,
             "ticks": ""
            },
            "type": "mesh3d"
           }
          ],
          "parcoords": [
           {
            "line": {
             "colorbar": {
              "outlinewidth": 0,
              "ticks": ""
             }
            },
            "type": "parcoords"
           }
          ],
          "pie": [
           {
            "automargin": true,
            "type": "pie"
           }
          ],
          "scatter": [
           {
            "fillpattern": {
             "fillmode": "overlay",
             "size": 10,
             "solidity": 0.2
            },
            "type": "scatter"
           }
          ],
          "scatter3d": [
           {
            "line": {
             "colorbar": {
              "outlinewidth": 0,
              "ticks": ""
             }
            },
            "marker": {
             "colorbar": {
              "outlinewidth": 0,
              "ticks": ""
             }
            },
            "type": "scatter3d"
           }
          ],
          "scattercarpet": [
           {
            "marker": {
             "colorbar": {
              "outlinewidth": 0,
              "ticks": ""
             }
            },
            "type": "scattercarpet"
           }
          ],
          "scattergeo": [
           {
            "marker": {
             "colorbar": {
              "outlinewidth": 0,
              "ticks": ""
             }
            },
            "type": "scattergeo"
           }
          ],
          "scattergl": [
           {
            "marker": {
             "colorbar": {
              "outlinewidth": 0,
              "ticks": ""
             }
            },
            "type": "scattergl"
           }
          ],
          "scattermapbox": [
           {
            "marker": {
             "colorbar": {
              "outlinewidth": 0,
              "ticks": ""
             }
            },
            "type": "scattermapbox"
           }
          ],
          "scatterpolar": [
           {
            "marker": {
             "colorbar": {
              "outlinewidth": 0,
              "ticks": ""
             }
            },
            "type": "scatterpolar"
           }
          ],
          "scatterpolargl": [
           {
            "marker": {
             "colorbar": {
              "outlinewidth": 0,
              "ticks": ""
             }
            },
            "type": "scatterpolargl"
           }
          ],
          "scatterternary": [
           {
            "marker": {
             "colorbar": {
              "outlinewidth": 0,
              "ticks": ""
             }
            },
            "type": "scatterternary"
           }
          ],
          "surface": [
           {
            "colorbar": {
             "outlinewidth": 0,
             "ticks": ""
            },
            "colorscale": [
             [
              0,
              "#0d0887"
             ],
             [
              0.1111111111111111,
              "#46039f"
             ],
             [
              0.2222222222222222,
              "#7201a8"
             ],
             [
              0.3333333333333333,
              "#9c179e"
             ],
             [
              0.4444444444444444,
              "#bd3786"
             ],
             [
              0.5555555555555556,
              "#d8576b"
             ],
             [
              0.6666666666666666,
              "#ed7953"
             ],
             [
              0.7777777777777778,
              "#fb9f3a"
             ],
             [
              0.8888888888888888,
              "#fdca26"
             ],
             [
              1,
              "#f0f921"
             ]
            ],
            "type": "surface"
           }
          ],
          "table": [
           {
            "cells": {
             "fill": {
              "color": "#EBF0F8"
             },
             "line": {
              "color": "white"
             }
            },
            "header": {
             "fill": {
              "color": "#C8D4E3"
             },
             "line": {
              "color": "white"
             }
            },
            "type": "table"
           }
          ]
         },
         "layout": {
          "annotationdefaults": {
           "arrowcolor": "#2a3f5f",
           "arrowhead": 0,
           "arrowwidth": 1
          },
          "autotypenumbers": "strict",
          "coloraxis": {
           "colorbar": {
            "outlinewidth": 0,
            "ticks": ""
           }
          },
          "colorscale": {
           "diverging": [
            [
             0,
             "#8e0152"
            ],
            [
             0.1,
             "#c51b7d"
            ],
            [
             0.2,
             "#de77ae"
            ],
            [
             0.3,
             "#f1b6da"
            ],
            [
             0.4,
             "#fde0ef"
            ],
            [
             0.5,
             "#f7f7f7"
            ],
            [
             0.6,
             "#e6f5d0"
            ],
            [
             0.7,
             "#b8e186"
            ],
            [
             0.8,
             "#7fbc41"
            ],
            [
             0.9,
             "#4d9221"
            ],
            [
             1,
             "#276419"
            ]
           ],
           "sequential": [
            [
             0,
             "#0d0887"
            ],
            [
             0.1111111111111111,
             "#46039f"
            ],
            [
             0.2222222222222222,
             "#7201a8"
            ],
            [
             0.3333333333333333,
             "#9c179e"
            ],
            [
             0.4444444444444444,
             "#bd3786"
            ],
            [
             0.5555555555555556,
             "#d8576b"
            ],
            [
             0.6666666666666666,
             "#ed7953"
            ],
            [
             0.7777777777777778,
             "#fb9f3a"
            ],
            [
             0.8888888888888888,
             "#fdca26"
            ],
            [
             1,
             "#f0f921"
            ]
           ],
           "sequentialminus": [
            [
             0,
             "#0d0887"
            ],
            [
             0.1111111111111111,
             "#46039f"
            ],
            [
             0.2222222222222222,
             "#7201a8"
            ],
            [
             0.3333333333333333,
             "#9c179e"
            ],
            [
             0.4444444444444444,
             "#bd3786"
            ],
            [
             0.5555555555555556,
             "#d8576b"
            ],
            [
             0.6666666666666666,
             "#ed7953"
            ],
            [
             0.7777777777777778,
             "#fb9f3a"
            ],
            [
             0.8888888888888888,
             "#fdca26"
            ],
            [
             1,
             "#f0f921"
            ]
           ]
          },
          "colorway": [
           "#636efa",
           "#EF553B",
           "#00cc96",
           "#ab63fa",
           "#FFA15A",
           "#19d3f3",
           "#FF6692",
           "#B6E880",
           "#FF97FF",
           "#FECB52"
          ],
          "font": {
           "color": "#2a3f5f"
          },
          "geo": {
           "bgcolor": "white",
           "lakecolor": "white",
           "landcolor": "#E5ECF6",
           "showlakes": true,
           "showland": true,
           "subunitcolor": "white"
          },
          "hoverlabel": {
           "align": "left"
          },
          "hovermode": "closest",
          "mapbox": {
           "style": "light"
          },
          "paper_bgcolor": "white",
          "plot_bgcolor": "#E5ECF6",
          "polar": {
           "angularaxis": {
            "gridcolor": "white",
            "linecolor": "white",
            "ticks": ""
           },
           "bgcolor": "#E5ECF6",
           "radialaxis": {
            "gridcolor": "white",
            "linecolor": "white",
            "ticks": ""
           }
          },
          "scene": {
           "xaxis": {
            "backgroundcolor": "#E5ECF6",
            "gridcolor": "white",
            "gridwidth": 2,
            "linecolor": "white",
            "showbackground": true,
            "ticks": "",
            "zerolinecolor": "white"
           },
           "yaxis": {
            "backgroundcolor": "#E5ECF6",
            "gridcolor": "white",
            "gridwidth": 2,
            "linecolor": "white",
            "showbackground": true,
            "ticks": "",
            "zerolinecolor": "white"
           },
           "zaxis": {
            "backgroundcolor": "#E5ECF6",
            "gridcolor": "white",
            "gridwidth": 2,
            "linecolor": "white",
            "showbackground": true,
            "ticks": "",
            "zerolinecolor": "white"
           }
          },
          "shapedefaults": {
           "line": {
            "color": "#2a3f5f"
           }
          },
          "ternary": {
           "aaxis": {
            "gridcolor": "white",
            "linecolor": "white",
            "ticks": ""
           },
           "baxis": {
            "gridcolor": "white",
            "linecolor": "white",
            "ticks": ""
           },
           "bgcolor": "#E5ECF6",
           "caxis": {
            "gridcolor": "white",
            "linecolor": "white",
            "ticks": ""
           }
          },
          "title": {
           "x": 0.05
          },
          "xaxis": {
           "automargin": true,
           "gridcolor": "white",
           "linecolor": "white",
           "ticks": "",
           "title": {
            "standoff": 15
           },
           "zerolinecolor": "white",
           "zerolinewidth": 2
          },
          "yaxis": {
           "automargin": true,
           "gridcolor": "white",
           "linecolor": "white",
           "ticks": "",
           "title": {
            "standoff": 15
           },
           "zerolinecolor": "white",
           "zerolinewidth": 2
          }
         }
        },
        "title": {
         "text": "Interactive 3D Atom Visualization (Color by Element)"
        }
       }
      }
     },
     "metadata": {},
     "output_type": "display_data"
    }
   ],
   "source": [
    "import numpy as np\n",
    "import plotly.graph_objects as go\n",
    "import json\n",
    "\n",
    "# ATOMIC_POSITIONS 파일 입력\n",
    "input_file = output_file\n",
    "\n",
    "# 원소 색상 파일 불러오기\n",
    "with open(\"element_colors.json\", \"r\") as f:\n",
    "    element_colors = json.load(f)\n",
    "\n",
    "# 원자 데이터 저장 리스트\n",
    "elements = []\n",
    "coordinates = []\n",
    "relax_flags = []\n",
    "\n",
    "# 파일 읽기\n",
    "with open(input_file, \"r\") as f:\n",
    "    lines = f.readlines()\n",
    "\n",
    "for line in lines:\n",
    "    split_line = line.strip().split()\n",
    "    \n",
    "    # 7개 값이 있어야 정상적인 원자 데이터로 간주\n",
    "    if len(split_line) == 7:\n",
    "        element, x, y, z, rx, ry, rz = split_line\n",
    "        coordinates.append([float(x), float(y), float(z)])\n",
    "        elements.append(element)\n",
    "        relax_flags.append([int(rx), int(ry), int(rz)])\n",
    "\n",
    "# numpy 배열 변환\n",
    "coordinates = np.array(coordinates)\n",
    "relax_flags = np.array(relax_flags)\n",
    "\n",
    "# Relax 여부 판단 (모든 좌표에서 1 1 1인 경우 Relax로 분류)\n",
    "is_relaxed = np.all(relax_flags == [1, 1, 1], axis=1)\n",
    "\n",
    "# 3D 시각화\n",
    "fig = go.Figure()\n",
    "\n",
    "# Relaxed 원자 (원소별 색상)\n",
    "for element in set(elements):  # 중복 없이 원소 리스트 추출\n",
    "    element_mask = (np.array(elements) == element) & is_relaxed  # 해당 원소 & Relax된 원자만 선택\n",
    "    if np.any(element_mask):  # 존재하는 경우만 추가\n",
    "        fig.add_trace(go.Scatter3d(\n",
    "            x=coordinates[element_mask, 0],\n",
    "            y=coordinates[element_mask, 1],\n",
    "            z=coordinates[element_mask, 2],\n",
    "            mode='markers',\n",
    "            marker=dict(size=6, color=element_colors.get(element, \"black\"), opacity=1.0),\n",
    "            name=f\"{element} (Relaxed)\"\n",
    "        ))\n",
    "\n",
    "# Fixed 원자 (회색)\n",
    "fig.add_trace(go.Scatter3d(\n",
    "    x=coordinates[~is_relaxed, 0], \n",
    "    y=coordinates[~is_relaxed, 1], \n",
    "    z=coordinates[~is_relaxed, 2],\n",
    "    mode='markers', marker=dict(size=5, color='gray', opacity=0.5),\n",
    "    name=\"Fixed Atoms\"\n",
    "))\n",
    "\n",
    "# 3D 레이아웃 설정\n",
    "fig.update_layout(\n",
    "    title=\"Interactive 3D Atom Visualization (Color by Element)\",\n",
    "    scene=dict(\n",
    "        xaxis_title=\"X (Å)\",\n",
    "        yaxis_title=\"Y (Å)\",\n",
    "        zaxis_title=\"Z (Å)\",\n",
    "    ),\n",
    "    margin=dict(l=0, r=0, b=0, t=40),\n",
    "    height=700\n",
    ")\n",
    "\n",
    "# 인터랙티브 플롯 출력\n",
    "fig.show()\n"
   ]
  },
  {
   "cell_type": "code",
   "execution_count": 9,
   "metadata": {},
   "outputs": [
    {
     "data": {
      "text/plain": [
       "array([[0, 0, 0],\n",
       "       [0, 0, 0],\n",
       "       [0, 0, 0],\n",
       "       [0, 0, 0],\n",
       "       [0, 0, 0],\n",
       "       [0, 0, 0],\n",
       "       [0, 0, 0],\n",
       "       [0, 0, 0],\n",
       "       [0, 0, 0],\n",
       "       [0, 0, 0],\n",
       "       [0, 0, 0],\n",
       "       [0, 0, 0],\n",
       "       [0, 0, 0],\n",
       "       [0, 0, 0],\n",
       "       [0, 0, 0],\n",
       "       [0, 0, 0],\n",
       "       [0, 0, 0],\n",
       "       [1, 1, 1],\n",
       "       [0, 0, 0],\n",
       "       [0, 0, 0],\n",
       "       [1, 1, 1],\n",
       "       [1, 1, 1],\n",
       "       [1, 1, 1],\n",
       "       [1, 1, 1],\n",
       "       [1, 1, 1],\n",
       "       [0, 0, 0],\n",
       "       [1, 1, 1],\n",
       "       [1, 1, 1],\n",
       "       [1, 1, 1],\n",
       "       [0, 0, 0],\n",
       "       [0, 0, 0],\n",
       "       [0, 0, 0],\n",
       "       [0, 0, 0],\n",
       "       [0, 0, 0],\n",
       "       [0, 0, 0],\n",
       "       [0, 0, 0],\n",
       "       [0, 0, 0],\n",
       "       [0, 0, 0],\n",
       "       [0, 0, 0],\n",
       "       [0, 0, 0],\n",
       "       [0, 0, 0],\n",
       "       [0, 0, 0],\n",
       "       [0, 0, 0],\n",
       "       [0, 0, 0],\n",
       "       [0, 0, 0],\n",
       "       [0, 0, 0],\n",
       "       [1, 1, 1],\n",
       "       [1, 1, 1],\n",
       "       [1, 1, 1],\n",
       "       [1, 1, 1],\n",
       "       [0, 0, 0],\n",
       "       [1, 1, 1],\n",
       "       [1, 1, 1],\n",
       "       [1, 1, 1],\n",
       "       [1, 1, 1],\n",
       "       [0, 0, 0],\n",
       "       [0, 0, 0],\n",
       "       [0, 0, 0],\n",
       "       [0, 0, 0],\n",
       "       [0, 0, 0],\n",
       "       [1, 1, 1],\n",
       "       [1, 1, 1],\n",
       "       [1, 1, 1]])"
      ]
     },
     "execution_count": 9,
     "metadata": {},
     "output_type": "execute_result"
    }
   ],
   "source": [
    "relax_flags"
   ]
  },
  {
   "cell_type": "code",
   "execution_count": 23,
   "metadata": {},
   "outputs": [
    {
     "name": "stdout",
     "output_type": "stream",
     "text": [
      "5.24.1\n"
     ]
    }
   ],
   "source": [
    "import plotly\n",
    "print(plotly.__version__)\n"
   ]
  }
 ],
 "metadata": {
  "kernelspec": {
   "display_name": "python39",
   "language": "python",
   "name": "python3"
  },
  "language_info": {
   "codemirror_mode": {
    "name": "ipython",
    "version": 3
   },
   "file_extension": ".py",
   "mimetype": "text/x-python",
   "name": "python",
   "nbconvert_exporter": "python",
   "pygments_lexer": "ipython3",
   "version": "3.9.19"
  }
 },
 "nbformat": 4,
 "nbformat_minor": 2
}
