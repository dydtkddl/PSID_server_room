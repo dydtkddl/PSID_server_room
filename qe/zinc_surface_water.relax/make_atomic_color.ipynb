{
 "cells": [
  {
   "cell_type": "code",
   "execution_count": 1,
   "metadata": {},
   "outputs": [
    {
     "name": "stdout",
     "output_type": "stream",
     "text": [
      "✅ element_colors.json 파일이 생성되었습니다!\n"
     ]
    }
   ],
   "source": [
    "import json\n",
    "\n",
    "# H부터 전이금속까지의 원소 색상 정의 (관용적 사용 색상)\n",
    "element_colors = {\n",
    "    \"H\": \"#FFFFFF\",   # 흰색 (White)\n",
    "    \"Li\": \"#CC80FF\",  # 보라색 (Purple)\n",
    "    \"Be\": \"#C2FF00\",  # 연두색 (Light Green)\n",
    "    \"B\": \"#FFB5B5\",   # 분홍색 (Pink)\n",
    "    \"C\": \"#909090\",   # 회색 (Gray)\n",
    "    \"N\": \"#3050F8\",   # 파란색 (Blue)\n",
    "    \"O\": \"#FF0D0D\",   # 빨간색 (Red)\n",
    "    \"F\": \"#90E050\",   # 연두색 (Light Green)\n",
    "    \"Na\": \"#AB5CF2\",  # 보라색 (Purple)\n",
    "    \"Mg\": \"#8AFF00\",  # 초록색 (Green)\n",
    "    \"Al\": \"#BFA6A6\",  # 연한 회색 (Silver)\n",
    "    \"Si\": \"#F0C8A0\",  # 베이지색 (Beige)\n",
    "    \"P\": \"#FF8000\",   # 주황색 (Orange)\n",
    "    \"S\": \"#FFFF30\",   # 노란색 (Yellow)\n",
    "    \"Cl\": \"#1FF01F\",  # 녹색 (Green)\n",
    "    \"K\": \"#8F40D4\",   # 보라색 (Purple)\n",
    "    \"Ca\": \"#3DFF00\",  # 연한 초록색 (Light Green)\n",
    "    \"Sc\": \"#E6E6E6\",  # 연한 회색 (Light Gray)\n",
    "    \"Ti\": \"#BFC2C7\",  # 연한 파랑 회색 (Blue Gray)\n",
    "    \"V\": \"#A6A6AB\",   # 진한 회색 (Dark Gray)\n",
    "    \"Cr\": \"#8A99C7\",  # 진한 파랑 회색 (Blue Gray)\n",
    "    \"Mn\": \"#9C7AC7\",  # 보라 회색 (Purple Gray)\n",
    "    \"Fe\": \"#E06633\",  # 오렌지색 (Orange)\n",
    "    \"Co\": \"#F090A0\",  # 연한 빨강 (Light Red)\n",
    "    \"Ni\": \"#50D050\",  # 연한 초록 (Light Green)\n",
    "    \"Cu\": \"#C88033\",  # 갈색 (Brown)\n",
    "    \"Zn\": \"#7D80B0\",  # 연한 파랑 (Light Blue)\n",
    "    \"Ga\": \"#C28F8F\",  # 연한 갈색 (Light Brown)\n",
    "    \"Ge\": \"#668F8F\",  # 청록색 (Teal)\n",
    "    \"As\": \"#BD80E3\",  # 연한 보라 (Light Purple)\n",
    "    \"Se\": \"#FFA100\",  # 진한 오렌지 (Dark Orange)\n",
    "    \"Br\": \"#A62929\",  # 진한 빨강 (Dark Red)\n",
    "}\n",
    "\n",
    "# JSON 파일로 저장\n",
    "with open(\"element_colors.json\", \"w\") as f:\n",
    "    json.dump(element_colors, f, indent=4)\n",
    "\n",
    "print(\"✅ element_colors.json 파일이 생성되었습니다!\")\n"
   ]
  }
 ],
 "metadata": {
  "kernelspec": {
   "display_name": "python39",
   "language": "python",
   "name": "python3"
  },
  "language_info": {
   "codemirror_mode": {
    "name": "ipython",
    "version": 3
   },
   "file_extension": ".py",
   "mimetype": "text/x-python",
   "name": "python",
   "nbconvert_exporter": "python",
   "pygments_lexer": "ipython3",
   "version": "3.9.19"
  }
 },
 "nbformat": 4,
 "nbformat_minor": 2
}
