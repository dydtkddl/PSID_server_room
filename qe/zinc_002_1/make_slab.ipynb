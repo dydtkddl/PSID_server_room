{
 "cells": [
  {
   "cell_type": "code",
   "execution_count": 1,
   "metadata": {},
   "outputs": [
    {
     "name": "stdout",
     "output_type": "stream",
     "text": [
      "✅ Zn_002_slab_2x2x2.cif 생성 완료 (원자 개수: 16)\n",
      "✅ Zn_002_slab_4x4x2.cif 생성 완료 (원자 개수: 64)\n",
      "✅ Zn_002_slab_6x6x2.cif 생성 완료 (원자 개수: 144)\n",
      "✅ Zn_002_slab_8x8x2.cif 생성 완료 (원자 개수: 256)\n"
     ]
    }
   ],
   "source": [
    "from ase.build import bulk, surface\n",
    "from ase.io import write\n",
    "\n",
    "# 1. Zn 벌크 결정 생성 (hcp 구조)\n",
    "zn_bulk = bulk('Zn', 'hcp', a=2.66, c=4.95)\n",
    "\n",
    "# 2. Zn (001) 표면 생성 (기판 크기 조절 가능)\n",
    "\n",
    "plane = (0,0,2)\n",
    "\n",
    "def create_zn_001_slab(size=(4, 4, 2), vacuum=0.0):\n",
    "    zn_slab = surface(zn_bulk, plane, layers=size[2], vacuum=vacuum)\n",
    "    zn_slab = zn_slab.repeat((size[0], size[1], 1))  # 크기 조절\n",
    "    return zn_slab\n",
    "\n",
    "sizes = [(2, 2, 2), (4, 4, 2), (6, 6, 2), (8, 8, 2)]  # 기판 크기 설정\n",
    "for i, size in enumerate(sizes):\n",
    "    zn_slab = create_zn_001_slab(size=size)\n",
    "    filename = f\"Zn_{''.join([str(x) for x in plane])}_slab_{size[0]}x{size[1]}x{size[2]}.cif\"\n",
    "    write(filename, zn_slab)\n",
    "    print(f\"✅ {filename} 생성 완료 (원자 개수: {len(zn_slab)})\")\n"
   ]
  }
 ],
 "metadata": {
  "kernelspec": {
   "display_name": "python39",
   "language": "python",
   "name": "python3"
  },
  "language_info": {
   "codemirror_mode": {
    "name": "ipython",
    "version": 3
   },
   "file_extension": ".py",
   "mimetype": "text/x-python",
   "name": "python",
   "nbconvert_exporter": "python",
   "pygments_lexer": "ipython3",
   "version": "3.9.19"
  }
 },
 "nbformat": 4,
 "nbformat_minor": 2
}
