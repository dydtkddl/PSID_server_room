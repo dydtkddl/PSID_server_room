{
 "cells": [
  {
   "cell_type": "code",
   "execution_count": 5,
   "metadata": {},
   "outputs": [
    {
     "name": "stdout",
     "output_type": "stream",
     "text": [
      "✅ Zn_101_slab_2x2x2.cif 생성 완료 (원자 개수: 16)\n",
      "✅ Zn_101_slab_4x4x2.cif 생성 완료 (원자 개수: 64)\n",
      "✅ Zn_101_slab_6x6x2.cif 생성 완료 (원자 개수: 144)\n",
      "✅ Zn_101_slab_8x8x2.cif 생성 완료 (원자 개수: 256)\n"
     ]
    }
   ],
   "source": [
    "from ase.build import bulk, surface\n",
    "from ase.io import write\n",
    "\n",
    "# 1. Zn 벌크 결정 생성 (hcp 구조)\n",
    "zn_bulk = bulk('Zn', 'hcp', a=2.66, c=4.95)\n",
    "\n",
    "# 2. Zn (001) 표면 생성 (기판 크기 조절 가능)\n",
    "\n",
    "plane = (1,0, 1)\n",
    "\n",
    "def create_zn_001_slab(size=(4, 4, 2), vacuum=0.0):\n",
    "    zn_slab = surface(zn_bulk, plane, layers=size[2], vacuum=vacuum)\n",
    "    zn_slab = zn_slab.repeat((size[0], size[1], 1))  # 크기 조절\n",
    "    return zn_slab\n",
    "\n",
    "sizes = [(2, 2, 2), (4, 4, 2), (6, 6, 2), (8, 8, 2)]  # 기판 크기 설정\n",
    "for i, size in enumerate(sizes):\n",
    "    zn_slab = create_zn_001_slab(size=size)\n",
    "    filename = f\"Zn_{''.join([str(x) for x in plane])}_slab_{size[0]}x{size[1]}x{size[2]}.cif\"\n",
    "    write(filename, zn_slab)\n",
    "    print(f\"✅ {filename} 생성 완료 (원자 개수: {len(zn_slab)})\")\n"
   ]
  },
  {
   "cell_type": "code",
   "execution_count": 6,
   "metadata": {},
   "outputs": [
    {
     "data": {
      "text/latex": [
       "$\\displaystyle \\left[\\begin{matrix}- a_{3} & 0 & 0\\\\- a_{6} & 0 & 0\\\\1 - a_{9} & 0 & 0\\end{matrix}\\right]$"
      ],
      "text/plain": [
       "Matrix([\n",
       "[   -a3, 0, 0],\n",
       "[   -a6, 0, 0],\n",
       "[1 - a9, 0, 0]])"
      ]
     },
     "execution_count": 6,
     "metadata": {},
     "output_type": "execute_result"
    }
   ],
   "source": [
    "import sympy as sp\n",
    "\n",
    "# 원래 벡터 v와 변환 후 벡터 v'\n",
    "v = sp.Matrix([1, 0, 1])  # 기존 벡터\n",
    "v_prime = sp.Matrix([0, 0, 1])  # 변환 후 목표 벡터\n",
    "\n",
    "# 변환 행렬 A 정의 (3x3 행렬)\n",
    "A = sp.Matrix(3, 3, sp.symbols('a1:10'))\n",
    "\n",
    "# 변환 방정식: A * v = v_prime\n",
    "equations = A * v - v_prime\n",
    "\n",
    "# 방정식 풀기\n",
    "solution = sp.solve(equations, A)\n",
    "\n",
    "# 변환 행렬 A 출력\n",
    "A_solution = sp.Matrix(3, 3, [solution[a] if a in solution else 0 for a in A])\n",
    "A_solution"
   ]
  },
  {
   "cell_type": "code",
   "execution_count": 2,
   "metadata": {},
   "outputs": [
    {
     "name": "stdout",
     "output_type": "stream",
     "text": [
      "Atoms(symbols='Zn2', pbc=[True, True, False], cell=[[5.619439473826549, 0.0, 0.0], [-0.6295645707152604, 2.5844242011132983, 0.0], [0.0, -0.0, 21.740448034207912]], tags=...)\n"
     ]
    }
   ],
   "source": [
    "from ase.build import bulk, surface\n",
    "from ase.io import write\n",
    "\n",
    "# Zn 벌크 기본 단위 셀 생성 (hcp 구조)\n",
    "zn_bulk = bulk('Zn', 'hcp', a=2.66, c=4.95)\n",
    "\n",
    "# 기본 단위 셀의 (001) 표면 추출 (1층, 1x1 크기)\n",
    "zn_unit_cell = surface(zn_bulk, (1, 0, 1), layers=1, vacuum=10.0)\n",
    "\n",
    "# CIF 파일로 저장\n",
    "write(\"Zn_101_unit_cell.cif\", zn_unit_cell)\n",
    "\n",
    "# 기본 정보 출력\n",
    "print(zn_unit_cell)\n"
   ]
  }
 ],
 "metadata": {
  "kernelspec": {
   "display_name": "python39",
   "language": "python",
   "name": "python3"
  },
  "language_info": {
   "codemirror_mode": {
    "name": "ipython",
    "version": 3
   },
   "file_extension": ".py",
   "mimetype": "text/x-python",
   "name": "python",
   "nbconvert_exporter": "python",
   "pygments_lexer": "ipython3",
   "version": "3.9.19"
  }
 },
 "nbformat": 4,
 "nbformat_minor": 2
}
